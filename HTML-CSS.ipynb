{
 "cells": [
  {
   "cell_type": "markdown",
   "id": "d0a50b03",
   "metadata": {},
   "source": [
    "References: \n",
    "1. Youtube: https://www.youtube.com/watch?v=G3e-cpL7ofc\n",
    "2. GitHub: https://github.com/SuperSimpleDev/html-css-course-2022/tree/main"
   ]
  },
  {
   "cell_type": "markdown",
   "id": "c1be44e7",
   "metadata": {},
   "source": [
    "## HTML Basics\n",
    "1. HTML elements should have an opening tag and a matching closing tag. However, some elements don't have a closing tag, they are called void elements! e.g. `<img>`, `<input>`\n",
    "2. HTML elements have attributes which can modify how an element behaves, an attribute has name and value\n",
    "3. In HTML, extra spaces and new lines are considered as 1 space!!! So that for two inline-block elements in the same line, there always exists a gap (single space, 4px) between them even if they have no margin! This gap is caused because their HTML codes are written in separate lines!"
   ]
  },
  {
   "cell_type": "markdown",
   "id": "3900305e",
   "metadata": {},
   "source": [
    "## HTML Entities\n",
    "HTML entities can represent reserved characters in HTML. Each entity starts with an ampersand (&) and ends with a semicolon (;). Here are some examples: \n",
    "1. HTML only recognizes a single space character! Non-breaking space: `&nbsp;`\n",
    "2. Some characters are reserved and have special meanings! `<`: `&lt;`, `>`: `&gt`, `&`: `&amp;`\n",
    "3. Special symbols. copyright symbol: `&copy;`, registered trademark symbol: `&reg;`"
   ]
  },
  {
   "cell_type": "markdown",
   "id": "9bdd18af",
   "metadata": {},
   "source": [
    "## CSS Basics\n",
    "How to insert CSS: https://www.w3schools.com/css/css_howto.asp\n",
    "1. External CSS: `<head><link rel=\"stylesheet\" href=\"style.css\"></head>`\n",
    "2. Internal CSS: `<head><style> ... {...: ...; ...: ...;}</style></head>`\n",
    "3. Inline CSS: `<... style=\"...: ...; ...: ...;\">`\n",
    "\n",
    "Note that CSS Syntax is:\n",
    "```css\n",
    "Selector {\n",
    "    Property: Value;\n",
    "}\n",
    "```\n",
    "\n",
    "CSS Specificity: If multiple selectors set the same property, then the more specific selector has the higher priority! e.g. the class selector (.class) is more specific than the element selector (p, div, ...) "
   ]
  },
  {
   "cell_type": "markdown",
   "id": "d2a52017",
   "metadata": {},
   "source": [
    "## class vs. id\n",
    "Both HTML attributes \"class\" and \"id\" can label HTML elements, here are the differences: \n",
    "1. For HTML attribute \"class\", the corresponding CSS selector is `.class`! Note that multiple elements can have the same class, an element can also have multiple classess separated by space!\n",
    "2. For HTML attribute \"id\", the corresponding CSS selector is `#id`! Note that only one element can have the same id!"
   ]
  },
  {
   "cell_type": "markdown",
   "id": "d9fb77cb",
   "metadata": {},
   "source": [
    "### Common CSS Properties & Values\n",
    "1. background-color/color: (1) color name, e.g. red, black (2) rgb (red, green, blue), e.g. (255, 0, 0) (3) hex, e.g. #FF0000 (4) rgba, e.g. rgba(255, 0, 0, 0.5), the last a-value determines how see-through the color is, 1 = soild color and 0 = complete see-through. Note that rgba can only be used to create a lighter color, to create a darker color, we can decrease all three values! \n",
    "   \n",
    "2. height/weight: (1) absolute (e.g. px, in, cm, pt) (2) relative (e.g. %, em, rem), e.g. `width: 50%;` means 50% of the width of the page or if the element is inside another element, 50% of the width of the container element.\n",
    "\n",
    "3. border: (1) none, it means no border! (2) `<border-width> <border-style> <border-color>`, common <border-style> values are\"solid\", \"dotted\", and \"dashed\"."
   ]
  },
  {
   "cell_type": "markdown",
   "id": "697590d6",
   "metadata": {},
   "source": [
    "## Pseudo-Class\n",
    "1. `.element:hover {...}`: apply when hoving over an element, add to or change the original style!\n",
    "2. `.element:active {...}`: apply when clicking on an element, add to or change the original/hover style!"
   ]
  },
  {
   "cell_type": "markdown",
   "id": "4d6d3f6f",
   "metadata": {},
   "source": [
    "## Intermediate CSS Properties\n",
    "1. `opacity`: a value between 0 and 1 to describe how see-through an element is, 0 means complete see-through (invisible), 1 means no see-through (default value).\n",
    "This is similar to a-value in rgba, however, rgba can create a lighter color, but opacity can make the whole element looks lighter!!!\n",
    "   \n",
    "2. `transition`: <property> <duration>, the property often corresponds to the property in the pseudo-class (often used when hovering)! We always put transition inside the \"base\" class, not the pseudo-class! We can transition multiple property-duration pairs by separating them with a comma.\n",
    "   \n",
    "3. `box-shadow`: <h-position> <v-position> <blur> <color>, <h-position> describes how long to the right of the element, <v-position> describes how long to the bottom of the element, <blur> describes how blur the shadow is, <color> describes the color of the shadow, usually we use rgba, e.g. rgba(0, 0, 0, 0.15)."
   ]
  },
  {
   "cell_type": "markdown",
   "id": "d979bd1e",
   "metadata": {},
   "source": [
    "## Chrome DevTools\n",
    "How to use: right click -> Inspect\n",
    "\n",
    "\"Elements\" shows the HTML code, \"Styles\" shows the CSS code, \"Computed\" shows the box model and the final, computed CSS values!!! We can even modify the HTML and CSS code directly! We can click the first icon on the left of \"Elements\" to inspect the element on the page. \n",
    "\n",
    "By clicking this icon and then hover on/click the element, we can know the exact color of the element (hex in \"Styles\" and rgb in \"Computed\"), the box model of the element in \"Computed\" (margin, border, padding, content), and the url of the image in \"Elements\" (click the url and use command + S to download)!"
   ]
  },
  {
   "cell_type": "markdown",
   "id": "9c126a95",
   "metadata": {},
   "source": [
    "## CSS Box Model \n",
    "How to see: right click -> inspect -> Computed\n",
    "\n",
    "1. Margin: space outside an element (between element and element).\n",
    "`margin: 1px;`: top/right/bottom/left;\n",
    "`margin: 1px 2px`: top/bottom right/left;\n",
    "`margin: 1px 2px 3px 4px`: top right bottom left\n",
    "\n",
    "2. Padding: space inside an element (between border and content). \n",
    "Usage of padding is the same as margin.\n",
    "\n",
    "3. Border\n",
    "`border: <border-width> <border-style> <border-color> | none`\n",
    "Usage of border-width is the same as margin and padding!\n",
    "\n",
    "**Note**\n",
    "1. Note that individual margin is like \"margin-top\", individual padding is like \"padding-top\", individual border-width is like \"border-top-width\"!   \n",
    "\n",
    "2. Note that negative margin pull things towards an element, but negative padding has no effect!   \n",
    "\n",
    "3. Note that in `<div>`, `<p>`, and `<input>`, `width` and `height` properties only refer to content width and height!!! However, in `<button>`, `width` = content width + padding + border (no margin)!!!    \n",
    "This is because `<div>` has `box-sizing: content-box` by default and `<button>` has `box-sizing: border-box` by default! We can change the value of box-sizing to change the definition of width and height!!!\n",
    "\n",
    "4. Note that `<div>` has no default margin, border, and padding, we generally put other elements (including other divs) inside div to group elements together and create more complex layouts!    \n",
    "However, `<p>` has default margin-top and margin-bottom!!! When using `<p>`, it is a common practice to reset the default margins: `p {margin-top: 0px; margin-bottom: 0px;}` and then apply more precise margins in the specific class!"
   ]
  },
  {
   "cell_type": "markdown",
   "id": "f0cd4ba3",
   "metadata": {},
   "source": [
    "## Text Element (Inline Element)\n",
    "Text elements are elements that appear within a line of text. `<strong>`(bold), `<u>`(underline), `<span>`(no default style!), `<a>`(hyperlink) are text elements that can be used inside `<p></p>`. These are useful when we want to style only part of the text!\n",
    "\n",
    "Note that `<span>` is the most generic text element (no default style), we always use it to style part of the text!!!"
   ]
  },
  {
   "cell_type": "markdown",
   "id": "e0dc5de7",
   "metadata": {},
   "source": [
    "## HTML Structure\n",
    "Basic HTML Structure:\n",
    "```html\n",
    "<!DOCTYPE html>\n",
    "<html>\n",
    "    <head>\n",
    "        ...\n",
    "    </head>\n",
    "    <body>\n",
    "        ...\n",
    "    </body>\n",
    "</html>\n",
    "```\n",
    "1. `<!DOCTYPE html>` tells the browser to use a modern version of HTML.\n",
    "\n",
    "2. `<head>` contains everything that's not visible including title (`<title>`), metadata (`<meta>`), internal CSS (`<style>`), and links to external resources (`<link>`), e.g. Google fonts and external CSS! \n",
    "(1) Load Google fonts: (1) https://fonts.google.com/ (2) Select the fonts and styles you like (3) Click top right icon to view selected families (4) Copy the code that Google provides into  `<head>`. \n",
    "(2) Load external CSS: `<link rel=\"stylesheet\" href=\"style.css\">`\n",
    "\n",
    "3. `<body>` contains everything that's visible!\n",
    "\n",
    "An example HTML Structure:\n",
    "```html\n",
    "<!DOCTYPE html>\n",
    "<html>\n",
    "    <head>\n",
    "        <meta charset=\"utf-8\">\n",
    "        <meta http-equiv=\"x-ua-compatible\" content=\"ie=edge\">\n",
    "        <meta name=\"viewport\" content=\"width=device-width, initial-scale=1.0\">\n",
    "        <title>WebDevTemplate</title>\n",
    "        <link rel=\"stylesheet\" href=\"style.css\">\n",
    "    </head>\n",
    "    <body>\n",
    "        \n",
    "    </body>\n",
    "</html>\n",
    "```"
   ]
  },
  {
   "cell_type": "markdown",
   "id": "2b5a30c8",
   "metadata": {},
   "source": [
    "## Image\n",
    "1. If we only set width or height, another property will proportionally adjust!\n",
    "   \n",
    "2. If we set both width and height, the image may stretch or distort! Under this circumstance, we should also include `object-fit`!!!\n",
    "   \n",
    "3. `object-fit: cover`: adjust the image proportionally until its width or height satisfies the width or height we set and another property exceeds the value we set, then crop the redundant part. The image covers the entire width * height area, but we may lose some part of the image (being cropped)! If object-position is not specified, we only keep the middle part of the image, others are cropped!\n",
    "   \n",
    "4. `object-fit: contain`: adjust the image proportionally so that the whole image (without being cropped) is contained in width * height area, but it may not cover the entire area! If object-position is not specified, the image is placed in the middle of the area!\n",
    "   \n",
    "5. `object-position: center/top/bottom/left/right`: determine where the image is positioned in the width * height area. The default value is \"50% 50%\" (\"center\")."
   ]
  },
  {
   "cell_type": "markdown",
   "id": "f472d1f9",
   "metadata": {},
   "source": [
    "## Input\n",
    "1. Most of the CSS properties are similar to buttons!   \n",
    "2. Input has a very powerful attribute called `type`, the default value is \"text\". Other values can be \"checkbox\", \"radio\", \"color\", \"date\", \"file\", \"range\", etc.   \n",
    "3. Input has an important attribute called `placeholder`, we can even modify the CSS property of placeholder: `.input::placeholder {...}`!    \n",
    "\n",
    "For more information, see https://developer.mozilla.org/en-US/docs/Web/HTML/Element/input"
   ]
  },
  {
   "cell_type": "markdown",
   "id": "68067fca",
   "metadata": {},
   "source": [
    "## Display Property\n",
    "1. Inline-block elements (`<button>`, `<img>`, `<input>`): Inline-block elements do not start on a new line and only take up as much width as necessary.    \n",
    "(1) When there are several inline-block elements in the same line, we can include `vertical-align: middle/top/bottom;` in each of the element to align the middle/top/bottom of each element with the middle/top/bottom of the line! Note that `vertical-align` can only be used in inline and inline-block elements!!!   \n",
    "(2) Note that for two inline-block elements in the same line, there always exists a gap (single space, 4px) between them even if they have no margin! This gap is caused because their HTML codes are written in separate lines and extra spaces and new lines are considered as 1 space in HTMl!\n",
    "\n",
    "2. Block elements (`<p>`, `<div>`, `<h1>`): Block elements start on a new line and take up the entire line in their containers, e.g. if `<div>` has width 300px, then `<p>` inside `<div></div>` can take up 300px, not the entire line in the browser!    \n",
    "Note that `<div>` is a very important container, it has no default padding, border, and margin. \n",
    "\n",
    "3. Inline elements (`<strong>`, `<u>`, `<span>`, `<a>`): Inline elements appear within a line of text. Also known as text elements!\n",
    "\n",
    "We can use `display` property to switch between inline-block and block!"
   ]
  },
  {
   "cell_type": "markdown",
   "id": "8fea7417",
   "metadata": {},
   "source": [
    "## Center Inline-block element (`<button>`, `<img>`, `<input>`)\n",
    "1. Modify display, margin-left, and margin-right property in the inline-block element:\n",
    "```css\n",
    ".inline-block-ele {\n",
    "    display: block;\n",
    "    margin-left: auto;\n",
    "    margin-right: auto;\n",
    "}\n",
    "```\n",
    "\n",
    "2. (Recommended) Add \"text-align: center\" in the `<div>`, then put the inline-block element in `<div></div>`:\n",
    "```css\n",
    "div {\n",
    "    text-align: center;\n",
    "}\n",
    "<div>element</div>\n",
    "```\n",
    "Note that elements must be inline-block, not block! This centers the element with its content, padding, border, and **margin**! "
   ]
  },
  {
   "cell_type": "markdown",
   "id": "45868061",
   "metadata": {},
   "source": [
    "## Div\n",
    "1. Different from `<button>`, in `<div>`, `width` and `height` properties only refer to content width and height because `<div>` has `box-sizing: content-box` by default and `<button>` has `box-sizing: border-box` by default! \n",
    "\n",
    "2. Different from `<p>`, `<div>` has no default margin, border, and padding, we generally put other elements (including other divs) inside div to group elements together and create more complex layouts!    \n",
    "\n",
    "3. `<div>` is a block element that starts on a new line and takes up the entire line in its container!\n",
    "\n",
    "4. When we design the `<div>`, we always set the `width` because div takes up the entire line in its container! We usually don't set the `height` so that the total height of the div is flexible and depends on the elements inside! We can set `padding` or `margin` to control the height of the div!\n"
   ]
  },
  {
   "cell_type": "markdown",
   "id": "620b00d3",
   "metadata": {},
   "source": [
    "## Nested Layouts Technique\n",
    "1. Vertical Layout: \n",
    "(1) Use `<div></div>`, most common!    \n",
    "(2) Use CSS grid with 1 column    \n",
    "(3) Use flexbox with `flex-direction: column`    \n",
    "\n",
    "2. Horizontal Layout: \n",
    "(1) Use `<div></div>` with property `display: inline-block;`, normally we may include `vertical-align` but there still exists alignment issues, not recommended!    \n",
    "(2) Use CSS Grid with multiple columns    \n",
    "(3) Use flexbox with `flex-direction: row`  \n",
    "\n",
    "**Most designs can be created using (1) vertical layout inside horizontal layout inside vertical layout ... OR (2) horizontal layout inside vertical layout inside horizontal layout ...**"
   ]
  },
  {
   "cell_type": "markdown",
   "id": "28faff85",
   "metadata": {},
   "source": [
    "## CSS Grid (focus on grid-template-columns)\n",
    "**Rigid layout**: We pre-define the number of items and their width in `grid-template-columns` property!    \n",
    "\n",
    "Note that item can be one element or a lot of elements. If item is one element, then we don't have to wrap this element into <div></div>, we can simply write this element as an item! If item is a lot of elements, then we should wrap these elements into <div></div> and write this div as an item!   \n",
    "\n",
    "```css\n",
    ".container {\n",
    "    display: grid;\n",
    "    grid-template-columns: 100px 150px 200px; /* There can only exist 3 items in a single line, if there are more items inside the container, redundant items will go to a new line following the width above! For each line, items from left to right have width 100px, 150px and 200px. Note that there is no single space between these items even if HTML codes are written in separate lines! Moreover, they have the same height which is the largest item's height in this line if not specified!!! */\n",
    "    column/row-gap: 10px; /* Set some distance between items */\n",
    "    align-items: stretch | start | end | center | baseline; /* Align the items vertically! Note that \"align-items: center\" is similar to \"vertical-align: middle\", but \"vertical-align: middle\" should be included in inline or inline-block elements! */\n",
    "    justify-content: start | end | center | space-around | space-between | space-evenly; /* Align the items horizontally! */\n",
    "}\n",
    "```\n",
    "\n",
    "For more details including align-items and justify-content, see grid-practice.html!"
   ]
  },
  {
   "cell_type": "markdown",
   "id": "500be0c0",
   "metadata": {},
   "source": [
    "## Flexbox (focus on flex-direction: row)\n",
    "**Flexible layout**: The number of items and their width are not pre-defined! They only take up as much width as possible (if width is not specified), but we can still set the width property in the items!   \n",
    "\n",
    "Note that item can be one element or a lot of elements. If item is one element, then we don't have to wrap this element into <div></div>, we can simply write this element as an item! If item is a lot of elements, then we should wrap these elements into <div></div> and write this div as an item!    \n",
    "\n",
    "```css\n",
    ".container {\n",
    "    display: flex;\n",
    "    flex-direction: row; /* Similar to CSS grid (grid-template-columns), inside the flexbox container, there is no single space between items and they have the same height which is the largest item's height in this line if not specified! However, different from CSS grid, there is no pre-defined number of items and items don't have pre-defined width, they only take up as much width as possible, but we can still set the width property in the items! Moreover, if taking up the whole line, new (redundant) will not go to a new line, instead, they stay in the same line and squeeze the original items! */\n",
    "    align-items: stretch | start | end | center | baseline; /* same as CSS grid */\n",
    "    justify-content: start | end | center | space-around | space-between | space-evenly; /* same as CSS grid */\n",
    "}\n",
    "```\n",
    "There are some tricks in flexbox: (1) If we don't want an item to shrink when shrinking the window, we can set `flex-shrink: 0`. Note that it doesn't work if we also set flex: 1, this is because flex: 1 includes flex-grow: 1 and flex-shrink: 1! (2) Some elements have default width, in order to shrink such elements as much as possible, we should set `width: 0px`!!!   \n",
    "\n",
    "For more details including align-items and justify-content, see flexbox-practice.html!"
   ]
  },
  {
   "cell_type": "markdown",
   "id": "e1cf10e0",
   "metadata": {},
   "source": [
    "## CSS Grid (grid-template-columns) vs. Flexbox (flex-direction: row)\n",
    "Similarities:\n",
    "(1) There is no gap (single space) between items even if their HTML codes are written in separate lines as long as items are written in the same container!   \n",
    "(2) If specified, items will have that specified height; If not specified, items will have the same height as the largest item's height in this line!   \n",
    "\n",
    "Differences:\n",
    "(1) CSS grid pre-defines the number of items and their width; Flexbox doesn't pre-define the number of items and their width, so that items can take up as much width as possible, but we can still set the width property in the items!   \n",
    "(2) In CSS grid, redundant items will go to a new line following the width above; In flexbox, if taking up the whole line, new (redundant) items will not go to a new line but stay in the same line and squeeze the original items!   \n",
    "(3) CSS grid uses \"fr\" in the container (e.g. grid-template-columns: 1 fr) to represent fraction of remaining space; Similarly, flexbox uses \"flex\" in the item (e.g. flex: 1)!   \n",
    "\n",
    "See more details in grid-practice.html and flexbox-practice.html!   "
   ]
  },
  {
   "cell_type": "markdown",
   "id": "fa4bfa54",
   "metadata": {},
   "source": [
    "## CSS Position\n",
    "The `position` property sets how an element is positioned in a document. We can then use `top`, `right` , `bottom`, and `left` properties to determine the final position of the elements!   \n",
    "\n",
    "1. `static`: This is the default value. The element is positioned according to the normal flow of the document. Static-positioned elements are not affected by the  `top`, `right`, `bottom`, and `left` properties!\n",
    "\n",
    "2. `relative`: Same as `static`, the element is positioned according to the normal flow of the document. However, `top`, `right`, `bottom`, and `left` properties will cause the relative-positioned element to be pushed away from its original position, but unlike margin, other elements are not affected!!!\n",
    "(1) `top: 10px`: Place the element 10px from the top of its original position (push it down by 10px)! \n",
    "\n",
    "3. `fixed`: The element is removed from the normal document flow, and no space is created for the element in the page layout! The element is positioned in the **browser window**, which means it stays in the same place when scrolling the page!!! We can use `top`, `right`, `bottom`, and `left` properties to determine the final position of the fixed-position elements! \n",
    "(1) `top: 10px`: Place the element 10px from the top of the browser window (the distance between the top of the element and the top of the browser window is 10px)!\n",
    "(2) If we only set one of top and bottom and one of right and left, the element will only take up as much space as possible! But if we set both top and bottom or both right and left, the element will stretch!    \n",
    "(3) Note that using `top`, `right`, `bottom`, and `left` properties are similar to setting the margins between element and browser window, so that the element (its actual width and height) will resize when resizing the window!!! We can also directly set the width and height of the elements by using `width` and `height`, so that the element will not resize when resizing the window! Sometimes we use a combination of top/right/bottom/left and width/height!      \n",
    "\n",
    "4. `absolute`: Same as `fixed`, the element is removed from the normal document flow, and no space is created for the element in the page layout! The element is positioned on the **page**, which means it moves when scrolling the page!!! We can use `top`, `right`, `bottom`, and `left` properties to determine the final position of the absolute-position elements! \n",
    "(1) `top: 10px`: Place the element 10px from the top of the page (the distance between the top of the element and the top of the page is 10px)!   \n",
    "\n",
    "If the absolute-position element is inside another positioned element (not `static`!), then the absolute-position element is positioned relative to its positioned ancestor! \n"
   ]
  },
  {
   "cell_type": "markdown",
   "id": "39dfafa3",
   "metadata": {},
   "source": [
    "## Conclusion\n",
    "1: Introduce some HTML basics\n",
    "\n",
    "<!-- https://supersimple.dev/exercises/buttons -->\n",
    "2: Introduce some CSS basics, including some common properties and values, especially styles of buttons\n",
    "3: Introduce pseudo class and some intermediate CSS properties, including opacity, transition, and box shadow\n",
    "4: Use Chrome DevTools to find exact color and use Box Model (padding) to rewrite height and width!\n",
    "\n",
    "<!-- https://supersimple.dev/exercises/text -->\n",
    "5: Introduce some properties about text\n",
    "\n",
    "6: Introduce formal HTML Structure\n",
    "\n",
    "<!-- https://supersimple.dev/exercises/youtube -->\n",
    "7: Start the final project, introduce image and input\n",
    "8: Introduce CSS display property\n",
    "9: Introduce div\n",
    "10: Using nested div to create the basic layout\n",
    "11: Use CSS grid to create video cards\n",
    "12: Use flexbox to create header\n",
    "13: Use nested flexbox to further improve the header\n",
    "14: Use position: fix to further improve the header and part of the sidebar\n",
    "\n",
    "\n",
    "\n"
   ]
  }
 ],
 "metadata": {
  "kernelspec": {
   "display_name": "Python 3 (ipykernel)",
   "language": "python",
   "name": "python3"
  },
  "language_info": {
   "codemirror_mode": {
    "name": "ipython",
    "version": 3
   },
   "file_extension": ".py",
   "mimetype": "text/x-python",
   "name": "python",
   "nbconvert_exporter": "python",
   "pygments_lexer": "ipython3",
   "version": "3.9.6"
  }
 },
 "nbformat": 4,
 "nbformat_minor": 5
}
